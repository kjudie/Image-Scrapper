{
  "nbformat": 4,
  "nbformat_minor": 0,
  "metadata": {
    "colab": {
      "provenance": []
    },
    "kernelspec": {
      "name": "python3",
      "display_name": "Python 3"
    },
    "language_info": {
      "name": "python"
    }
  },
  "cells": [
    {
      "cell_type": "code",
      "execution_count": null,
      "metadata": {
        "colab": {
          "base_uri": "https://localhost:8080/"
        },
        "id": "LPlGNNAyBn_G",
        "outputId": "9c921da7-44d5-4242-bf3d-f2ebde6c7853"
      },
      "outputs": [
        {
          "output_type": "stream",
          "name": "stdout",
          "text": [
            "Drive already mounted at /content/drive; to attempt to forcibly remount, call drive.mount(\"/content/drive\", force_remount=True).\n"
          ]
        }
      ],
      "source": [
        "# This is a conceptual example, not runnable without API keys.\n",
        "\n",
        "import requests\n",
        "import csv\n",
        "from google.colab import drive\n",
        "#drive.flush_and_unmount()\n",
        "\n",
        "# Mount Google Drive\n",
        "drive.mount('/content/drive')\n",
        "\n",
        "# Your API credentials\n",
        "API_KEY = \"YOUR_GOOGLE_API_KEY\" # Replace with your actual API key or use Colab secrets\n",
        "SEARCH_ENGINE_ID = \"YOUR_SEARCH_ENGINE_ID\" # Replace with your actual Search Engine ID\n",
        "\n",
        "# Define the paths for your files in Google Drive\n",
        "csv_file_path = '/content/drive/MyDrive/influencers_list.csv' # <<< 1. ALTER THIS LINE >>> Update this path if your file is elsewhere\n",
        "output_folder_path = '/content/drive/MyDrive/influencer_images' # <<< 2. ALTER THIS LINE >>> Update this path if you want to save images elsewhere\n",
        "\n",
        "# Make sure the output folder exists\n",
        "import os\n",
        "os.makedirs(output_folder_path, exist_ok=True)\n",
        "\n",
        "# Open the CSV file with influencer names from Google Drive\n",
        "with open(csv_file_path, 'r') as file:\n",
        "    reader = csv.reader(file)\n",
        "    for row in reader:\n",
        "        influencer_name = row[0]\n",
        "\n",
        "        # Build the search query URL\n",
        "        query = f\"{influencer_name} headshot\"\n",
        "        url = f\"https://www.googleapis.com/customsearch/v1?q={query}&key={API_KEY}&cx={SEARCH_ENGINE_ID}&searchType=image&num=1\"\n",
        "\n",
        "        # Make the API request\n",
        "        response = requests.get(url).json()\n",
        "\n",
        "        # Get the first image URL\n",
        "        if 'items' in response:\n",
        "            image_url = response['items'][0]['link']\n",
        "\n",
        "            # Download and save the image to the specified folder in Google Drive\n",
        "            image_data = requests.get(image_url).content\n",
        "            file_name = f\"{influencer_name.replace(' ', '_')}.jpg\"\n",
        "            image_save_path = os.path.join(output_folder_path, file_name) # <<< 2. ALTER THIS LINE >>>\n",
        "\n",
        "            with open(image_save_path, 'wb') as handler:\n",
        "                handler.write(image_data)\n",
        "            print(f\"Saved image for {influencer_name}\")"
      ]
    },
    {
      "cell_type": "code",
      "source": [
        "\n",
        "import requests\n",
        "import csv\n",
        "from google.colab import drive\n",
        "from google.colab import userdata\n",
        "\n",
        "\n",
        "\n",
        "# Your API credentials\n",
        "API_KEY = userdata.get(\"GOOGLE_API_KEY\") # Replace with your actual API key or use Colab secrets\n",
        "SEARCH_ENGINE_ID = userdata.get(\"SEARCH_ENGINE_ID\") # Replace with your actual Search Engine ID\n",
        "\n",
        "\n",
        "\n",
        "\n",
        "# Define the paths for your files in Google Drive\n",
        "csv_file_path = '/content/drive/MyDrive/influencers_list.csv' # <<< 1. ALTER THIS LINE >>> Update this path if your file is elsewhere\n",
        "output_folder_path = '/content/drive/MyDrive/influencer_images' # <<< 2. ALTER THIS LINE >>> Update this path if you want to save images elsewhere\n",
        "\n",
        "# Make sure the output folder exists\n",
        "import os\n",
        "os.makedirs(output_folder_path, exist_ok=True)\n",
        "\n",
        "# Open the CSV file with influencer names from Google Drive\n",
        "with open(csv_file_path, 'r') as file:\n",
        "    reader = csv.reader(file)\n",
        "    for row in reader:\n",
        "        influencer_name = row[0]\n",
        "\n",
        "        # Build the search query URL\n",
        "        query = f\"{influencer_name} headshot\"\n",
        "        url = f\"https://www.googleapis.com/customsearch/v1?q={query}&key={API_KEY}&cx={SEARCH_ENGINE_ID}&searchType=image&num=1\"\n",
        "\n",
        "        # Make the API request\n",
        "        response = requests.get(url).json()\n",
        "\n",
        "        # Get the first image URL\n",
        "        if 'items' in response:\n",
        "            image_url = response['items'][0]['link']\n",
        "\n",
        "            # Download and save the image to the specified folder in Google Drive\n",
        "            image_data = requests.get(image_url).content\n",
        "            file_name = f\"{influencer_name.replace(' ', '_')}.jpg\"\n",
        "            image_save_path = os.path.join(output_folder_path, file_name) # <<< 2. ALTER THIS LINE >>>\n",
        "\n",
        "            with open(image_save_path, 'wb') as handler:\n",
        "                handler.write(image_data)\n",
        "            print(f\"Saved image for {influencer_name}\")"
      ],
      "metadata": {
        "colab": {
          "base_uri": "https://localhost:8080/"
        },
        "id": "PJQhx2YVERVp",
        "outputId": "37e1f57b-3741-4f9b-d841-6379599c7b5a"
      },
      "execution_count": null,
      "outputs": [
        {
          "output_type": "stream",
          "name": "stdout",
          "text": [
            
          ]
        }
      ]
    }
  ]
}
